{
 "cells": [
  {
   "cell_type": "code",
   "execution_count": 3,
   "metadata": {},
   "outputs": [
    {
     "name": "stdout",
     "output_type": "stream",
     "text": [
      "   roll no\\n      name branch internal mark external mark\n",
      "0          1   dheeraj     cs       debared            65\n",
      "1          2     harsh    NaN            80       debared\n",
      "2          3      ashu     ee        absent        absent\n",
      "3          4       ram    NaN            99            89\n",
      "4          5     shyam     it            67      absent\\n\n",
      "5          6     jimmy    NaN       debared            99\n",
      "6          7  oostro\\n     me            54        absent\n",
      "7          8      jack    NaN            23            38\n",
      "8          9   rihaana    NaN        absent            59\n",
      "9         10       jam     cs            18       debared\n"
     ]
    }
   ],
   "source": [
    "import numpy as np\n",
    "import pandas as pd\n",
    "\n",
    "dataFrame = pd.read_csv('practice_student.csv')\n",
    "print(dataFrame)"
   ]
  },
  {
   "cell_type": "code",
   "execution_count": 12,
   "metadata": {},
   "outputs": [
    {
     "name": "stdout",
     "output_type": "stream",
     "text": [
      "columns\n",
      "\n",
      "Index(['roll no\\n', 'name', 'branch', 'internal mark', 'external mark'], dtype='object')\n",
      "head\n",
      "\n",
      "   roll no\\n     name branch internal mark external mark\n",
      "0          1  dheeraj     cs       debared            65\n",
      "1          2    harsh    NaN            80       debared\n",
      "2          3     ashu     ee        absent        absent\n",
      "3          4      ram    NaN            99            89\n",
      "4          5    shyam     it            67      absent\\n\n"
     ]
    }
   ],
   "source": [
    "#cleaning the data\n",
    "print(\"columns\\n\")\n",
    "print(dataFrame.columns)\n",
    "print(\"head\\n\")\n",
    "print(dataFrame.head())"
   ]
  },
  {
   "cell_type": "code",
   "execution_count": 10,
   "metadata": {},
   "outputs": [
    {
     "name": "stdout",
     "output_type": "stream",
     "text": [
      "   roll no\\n     name branch internal mark external mark\n",
      "0          1  dheeraj     cs       debared            65\n",
      "1          2    harsh    NaN            80       debared\n"
     ]
    }
   ],
   "source": [
    "print(dataFrame.head(2))"
   ]
  },
  {
   "cell_type": "code",
   "execution_count": 16,
   "metadata": {},
   "outputs": [
    {
     "name": "stdout",
     "output_type": "stream",
     "text": [
      "   roll no\\n     name branch internal mark external mark\n",
      "0          1  dheeraj     cs       debared            65\n",
      "1          2    harsh    NaN            80       debared\n",
      "2          3     ashu     ee        absent        absent\n",
      "3          4      ram    NaN            99            89\n",
      "4          5    shyam     it            67      absent\\n\n",
      "5          6    jimmy    NaN       debared            99\n"
     ]
    }
   ],
   "source": [
    "print(dataFrame.head(-4))"
   ]
  },
  {
   "cell_type": "code",
   "execution_count": null,
   "metadata": {},
   "outputs": [],
   "source": []
  }
 ],
 "metadata": {
  "kernelspec": {
   "display_name": "Python 3",
   "language": "python",
   "name": "python3"
  },
  "language_info": {
   "codemirror_mode": {
    "name": "ipython",
    "version": 3
   },
   "file_extension": ".py",
   "mimetype": "text/x-python",
   "name": "python",
   "nbconvert_exporter": "python",
   "pygments_lexer": "ipython3",
   "version": "3.7.3"
  }
 },
 "nbformat": 4,
 "nbformat_minor": 2
}
