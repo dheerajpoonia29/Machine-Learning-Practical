{
 "cells": [
  {
   "cell_type": "code",
   "execution_count": 16,
   "metadata": {},
   "outputs": [
    {
     "name": "stdout",
     "output_type": "stream",
     "text": [
      "test0 for 35, 1 ['apple']\n",
      "test1 for 135, 1 ['apple']\n",
      "test2 for 165, 1 ['apple']\n",
      "test3 for 185, 1 ['orange']\n",
      "*test4 for 210, 1 ['apple']\n",
      "test5 for 310, 1 ['orange']\n"
     ]
    }
   ],
   "source": [
    "from sklearn import tree\n",
    "features = [[135,1], [120,1], [180,2], [190,2], [175,2]]\n",
    "labels = [\"apple\", \"apple\", \"orange\", \"orange\", \"orange\"]\n",
    "\n",
    "#selection of classifiers\n",
    "classifier = tree.DecisionTreeClassifier()\n",
    "\n",
    "#train the model\n",
    "cf=classifier.fit(features, labels)\n",
    "\n",
    "#testing using predict\n",
    "print(\"test0 for 35, 1\", cf.predict([[35,1]]))\n",
    "print(\"test1 for 135, 1\", cf.predict([[135,1]]))\n",
    "print(\"test2 for 165, 1\", cf.predict([[165,1]]))\n",
    "print(\"test3 for 185, 1\", cf.predict([[185,2]]))\n",
    "print(\"*test4 for 210, 1\", cf.predict([[210,1]]))\n",
    "print(\"test5 for 310, 1\", cf.predict([[310,2]]))"
   ]
  },
  {
   "cell_type": "code",
   "execution_count": 22,
   "metadata": {},
   "outputs": [
    {
     "name": "stdout",
     "output_type": "stream",
     "text": [
      "testing ['apple' 'orange' 'apple' 'orange' 'apple' 'orange' 'orange']\n"
     ]
    }
   ],
   "source": [
    "from sklearn import tree\n",
    "training_features = [[135,1], [120,1], [115,1], [140,1], [180,2], [190,2], [175,2], [210,2], [240,2], [250,2]]\n",
    "training_labels = [\"apple\", \"apple\", \"apple\", \"apple\", \"orange\", \"orange\", \"orange\", \"orange\", \"orange\", \"orange\"]\n",
    "\n",
    "#selection of classifiers\n",
    "classifier = tree.DecisionTreeClassifier()\n",
    "\n",
    "#train the model\n",
    "cf=classifier.fit(features, labels)\n",
    "testing_features = [[30,1], [160,2], [60,1], [180,2], [120,1], [260,2], [180,2]]\n",
    "testing_labels = [\"apple\", \"orange\", \"apple\", \"orange\", \"apple\", \"orange\", \"apple\"]\n",
    "\n",
    "#testing using predict\n",
    "print(\"testing\", cf.predict(testing_features))"
   ]
  },
  {
   "cell_type": "code",
   "execution_count": 36,
   "metadata": {},
   "outputs": [
    {
     "name": "stdout",
     "output_type": "stream",
     "text": [
      "accuracy =  85.71428571428571 %\n"
     ]
    }
   ],
   "source": [
    "from sklearn import tree\n",
    "from sklearn.metrics import accuracy_score\n",
    "training_features = [[135,1], [120,1], [115,1], [140,1], [180,2], [190,2], [175,2], [210,2], [240,2], [250,2]]\n",
    "training_labels = [\"apple\", \"apple\", \"apple\", \"apple\", \"orange\", \"orange\", \"orange\", \"orange\", \"orange\", \"orange\"]\n",
    "\n",
    "#selection of classifiers\n",
    "classifier = tree.DecisionTreeClassifier()\n",
    "\n",
    "#train the model\n",
    "cf=classifier.fit(features, labels)\n",
    "testing_features = [[30,1], [160,2], [60,1], [180,2], [120,1], [260,2], [180,2]]\n",
    "testing_labels = [\"apple\", \"orange\", \"apple\", \"orange\", \"apple\", \"orange\", \"apple\"]\n",
    "\n",
    "#testing using predict\n",
    "prediction=cf.predict(testing_features)\n",
    "print(\"accuracy = \", accuracy_score(testing_labels, prediction, normalize=True)*100, \"%\")\n",
    "# it automaticaly match the testing_labels with prediction labels and give accuracy on the basis on that"
   ]
  },
  {
   "cell_type": "markdown",
   "metadata": {},
   "source": []
  }
 ],
 "metadata": {
  "kernelspec": {
   "display_name": "Python 3",
   "language": "python",
   "name": "python3"
  },
  "language_info": {
   "codemirror_mode": {
    "name": "ipython",
    "version": 3
   },
   "file_extension": ".py",
   "mimetype": "text/x-python",
   "name": "python",
   "nbconvert_exporter": "python",
   "pygments_lexer": "ipython3",
   "version": "3.7.3"
  }
 },
 "nbformat": 4,
 "nbformat_minor": 2
}
