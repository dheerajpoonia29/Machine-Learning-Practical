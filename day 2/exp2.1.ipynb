{
 "cells": [
  {
   "cell_type": "code",
   "execution_count": 1,
   "metadata": {},
   "outputs": [
    {
     "name": "stdout",
     "output_type": "stream",
     "text": [
      "   Country  Age  Salary Purchased\n",
      "0   France   44   72000        No\n",
      "1    Spain   27   48000       Yes\n",
      "2  Germany   30   54000        No\n",
      "3    Spain   38   61000        No\n",
      "4  Germany   40       0       Yes\n",
      "5   France   35   58000       Yes\n",
      "6    Spain    0   52000        No\n",
      "7   France   48   79000       Yes\n",
      "8  Germany   50   83000        No\n",
      "9   France   37   67000       Yes\n"
     ]
    }
   ],
   "source": [
    "import numpy as np\n",
    "import pandas as pd\n",
    "df = pd.read_csv(\"Data.csv\")\n",
    "print(df)"
   ]
  },
  {
   "cell_type": "code",
   "execution_count": 2,
   "metadata": {},
   "outputs": [
    {
     "name": "stdout",
     "output_type": "stream",
     "text": [
      "Index(['Country', 'Age', 'Salary', 'Purchased'], dtype='object')\n"
     ]
    }
   ],
   "source": [
    "print(df.columns)"
   ]
  },
  {
   "cell_type": "code",
   "execution_count": 3,
   "metadata": {},
   "outputs": [
    {
     "name": "stdout",
     "output_type": "stream",
     "text": [
      "   Country  Age\n",
      "0   France   44\n",
      "1    Spain   27\n",
      "2  Germany   30\n",
      "3    Spain   38\n",
      "4  Germany   40\n",
      "5   France   35\n",
      "6    Spain    0\n",
      "7   France   48\n",
      "8  Germany   50\n",
      "9   France   37\n"
     ]
    }
   ],
   "source": [
    "print(df[df.columns[0:2]])"
   ]
  },
  {
   "cell_type": "code",
   "execution_count": 4,
   "metadata": {},
   "outputs": [
    {
     "name": "stdout",
     "output_type": "stream",
     "text": [
      "   Age  Salary\n",
      "0   44   72000\n",
      "1   27   48000\n",
      "2   30   54000\n",
      "3   38   61000\n",
      "4   40       0\n",
      "5   35   58000\n",
      "6    0   52000\n",
      "7   48   79000\n",
      "8   50   83000\n",
      "9   37   67000\n"
     ]
    }
   ],
   "source": [
    "# first 3 col -> x, input(), independent var, feature\n",
    "feature = df[df.columns[1:3]]\n",
    "print(feature)"
   ]
  },
  {
   "cell_type": "code",
   "execution_count": 5,
   "metadata": {},
   "outputs": [
    {
     "name": "stdout",
     "output_type": "stream",
     "text": [
      "  Purchased\n",
      "0        No\n",
      "1       Yes\n",
      "2        No\n",
      "3        No\n",
      "4       Yes\n",
      "5       Yes\n",
      "6        No\n",
      "7       Yes\n",
      "8        No\n",
      "9       Yes\n"
     ]
    }
   ],
   "source": [
    "# last col -> y, ouput(), depenedaend var, label\n",
    "label = df[df.columns[3:4]]\n",
    "print(label)"
   ]
  },
  {
   "cell_type": "code",
   "execution_count": 6,
   "metadata": {},
   "outputs": [
    {
     "name": "stdout",
     "output_type": "stream",
     "text": [
      "  Purchased\n",
      "0        No\n",
      "1       Yes\n",
      "2        No\n",
      "3        No\n",
      "4       Yes\n",
      "5       Yes\n",
      "6        No\n",
      "7       Yes\n",
      "8        No\n",
      "9       Yes\n"
     ]
    }
   ],
   "source": [
    "label = df[[\"Purchased\"]]\n",
    "print(label)"
   ]
  },
  {
   "cell_type": "code",
   "execution_count": 7,
   "metadata": {},
   "outputs": [],
   "source": [
    "#divide data into training and testing data set 80 to 20 %\n",
    "from sklearn import tree\n",
    "from sklearn.metrics import accuracy_score\n",
    "from sklearn.model_selection import train_test_split"
   ]
  },
  {
   "cell_type": "code",
   "execution_count": 8,
   "metadata": {},
   "outputs": [],
   "source": [
    "feature_train, feature_test, label_train, label_test = train_test_split(feature,label,test_size=0.3)"
   ]
  },
  {
   "cell_type": "code",
   "execution_count": 9,
   "metadata": {},
   "outputs": [
    {
     "name": "stdout",
     "output_type": "stream",
     "text": [
      "   Age  Salary\n",
      "1   27   48000\n",
      "0   44   72000\n",
      "8   50   83000\n",
      "7   48   79000\n",
      "4   40       0\n",
      "5   35   58000\n",
      "2   30   54000\n",
      "\n",
      "\n",
      "  Purchased\n",
      "1       Yes\n",
      "0        No\n",
      "8        No\n",
      "7       Yes\n",
      "4       Yes\n",
      "5       Yes\n",
      "2        No\n"
     ]
    }
   ],
   "source": [
    "print(feature_train)\n",
    "print(\"\\n\")\n",
    "print(label_train)"
   ]
  },
  {
   "cell_type": "code",
   "execution_count": 10,
   "metadata": {},
   "outputs": [
    {
     "name": "stdout",
     "output_type": "stream",
     "text": [
      "   Age  Salary\n",
      "3   38   61000\n",
      "9   37   67000\n",
      "6    0   52000\n",
      "\n",
      "\n",
      "  Purchased\n",
      "3        No\n",
      "9       Yes\n",
      "6        No\n"
     ]
    }
   ],
   "source": [
    "print(feature_test)\n",
    "print(\"\\n\")\n",
    "print(label_test)"
   ]
  },
  {
   "cell_type": "code",
   "execution_count": 11,
   "metadata": {},
   "outputs": [],
   "source": [
    "# TRAINING DATA [feature_train, label_train]\n",
    "from sklearn import tree\n",
    "from sklearn.metrics import accuracy_score\n",
    "\n",
    "#selection of classifiers\n",
    "classifier = tree.DecisionTreeClassifier()\n",
    "\n",
    "#train the model\n",
    "cf=classifier.fit(feature_train, label_train)\n"
   ]
  },
  {
   "cell_type": "code",
   "execution_count": 12,
   "metadata": {},
   "outputs": [
    {
     "name": "stdout",
     "output_type": "stream",
     "text": [
      "accuracy =  66.66666666666666 %\n"
     ]
    }
   ],
   "source": [
    "#testing accuracy  \n",
    "#testing using predict\n",
    "prediction=cf.predict(feature_test)\n",
    "print(\"accuracy = \", accuracy_score(label_test, prediction, normalize=True)*100, \"%\")\n",
    "#it automaticaly match the testing_labels with prediction labels and give accuracy on the basis on that"
   ]
  },
  {
   "cell_type": "code",
   "execution_count": 13,
   "metadata": {},
   "outputs": [
    {
     "name": "stdout",
     "output_type": "stream",
     "text": [
      "[[-1.4837121  -0.31903789]\n",
      " [ 0.59348484  0.60507186]\n",
      " [ 1.32661317  1.02862216]\n",
      " [ 1.08223706  0.87460387]\n",
      " [ 0.10473262 -2.16725738]\n",
      " [-0.50620766  0.06600784]\n",
      " [-1.11714793 -0.08801045]]\n"
     ]
    },
    {
     "data": {
      "text/plain": [
       "\"\\nx'={x-mean(x)}/std_devition(x)\\nfor minMaxScaler x'={x-min(x)}/{max(x)-min(x)}\\n\""
      ]
     },
     "execution_count": 13,
     "metadata": {},
     "output_type": "execute_result"
    }
   ],
   "source": [
    "# scalling the age and salary with standart scaler\n",
    "from sklearn.preprocessing import StandardScaler\n",
    "ss = StandardScaler()\n",
    "feature_train = ss.fit_transform(feature_train)\n",
    "print(feature_train)\n",
    "\n",
    "#how standard scaller will work\n",
    "'''\n",
    "x'={x-mean(x)}/std_devition(x)\n",
    "for minMaxScaler x'={x-min(x)}/{max(x)-min(x)}\n",
    "'''"
   ]
  },
  {
   "cell_type": "code",
   "execution_count": 14,
   "metadata": {},
   "outputs": [
    {
     "name": "stdout",
     "output_type": "stream",
     "text": [
      "[[0.         0.57831325]\n",
      " [0.73913043 0.86746988]\n",
      " [1.         1.        ]\n",
      " [0.91304348 0.95180723]\n",
      " [0.56521739 0.        ]\n",
      " [0.34782609 0.69879518]\n",
      " [0.13043478 0.65060241]]\n"
     ]
    }
   ],
   "source": [
    "# scalling the age and salary with MinMaxScaler\n",
    "from sklearn.preprocessing import MinMaxScaler\n",
    "ss = MinMaxScaler()\n",
    "feature_train = ss.fit_transform(feature_train)\n",
    "print(feature_train)"
   ]
  },
  {
   "cell_type": "code",
   "execution_count": 15,
   "metadata": {},
   "outputs": [
    {
     "name": "stdout",
     "output_type": "stream",
     "text": [
      "df.columns\n",
      " Index(['Country', 'Age', 'Salary', 'Purchased'], dtype='object') \n",
      "\n",
      "\n",
      "\n",
      "df.head\n",
      "    Country  Age  Salary Purchased\n",
      "0   France   44   72000        No\n",
      "1    Spain   27   48000       Yes\n",
      "2  Germany   30   54000        No\n",
      "3    Spain   38   61000        No\n",
      "4  Germany   40       0       Yes \n",
      "\n",
      "\n",
      "\n",
      "df.shape\n",
      " (10, 4)\n",
      "\n",
      "grouping by country\n",
      " Country\n",
      "France     4\n",
      "Germany    3\n",
      "Spain      3\n",
      "dtype: int64\n",
      "\n",
      "type check\n",
      " Country      object\n",
      "Age           int64\n",
      "Salary        int64\n",
      "Purchased    object\n",
      "dtype: object\n"
     ]
    }
   ],
   "source": [
    "print(\"df.columns\\n\",df.columns,\"\\n\\n\")\n",
    "print(\"\\ndf.head\\n\",df.head(),\"\\n\\n\")\n",
    "print(\"\\ndf.shape\\n\",df.shape)\n",
    "print(\"\\ngrouping by country\\n\",df.groupby('Country').size())\n",
    "print(\"\\ntype check\\n\",df.dtypes)"
   ]
  },
  {
   "cell_type": "code",
   "execution_count": 16,
   "metadata": {},
   "outputs": [
    {
     "name": "stdout",
     "output_type": "stream",
     "text": [
      "   Country  Age\n",
      "1    Spain   27\n",
      "2  Germany   30\n"
     ]
    }
   ],
   "source": [
    "x = df.iloc[1:3,0:2]\n",
    "print(x)"
   ]
  },
  {
   "cell_type": "code",
   "execution_count": 17,
   "metadata": {},
   "outputs": [
    {
     "name": "stdout",
     "output_type": "stream",
     "text": [
      "   Country  Age  Salary Purchased\n",
      "0   France   44   72000        No\n",
      "1    Spain   27   48000       Yes\n",
      "2  Germany   30   54000        No\n",
      "3    Spain   38   61000        No\n",
      "4  Germany   40       0       Yes\n",
      "5   France   35   58000       Yes\n",
      "6    Spain    0   52000        No\n",
      "7   France   48   79000       Yes\n",
      "8  Germany   50   83000        No\n",
      "9   France   37   67000       Yes\n"
     ]
    }
   ],
   "source": [
    "print(df.iloc[::])"
   ]
  },
  {
   "cell_type": "code",
   "execution_count": 18,
   "metadata": {},
   "outputs": [
    {
     "name": "stdout",
     "output_type": "stream",
     "text": [
      "   Country  Age  Salary\n",
      "0   France   44   72000\n",
      "1    Spain   27   48000\n",
      "2  Germany   30   54000\n",
      "3    Spain   38   61000\n",
      "4  Germany   40       0\n",
      "5   France   35   58000\n",
      "6    Spain    0   52000\n",
      "7   France   48   79000\n",
      "8  Germany   50   83000\n",
      "9   France   37   67000\n"
     ]
    }
   ],
   "source": [
    "x = df.iloc[:,:-1]\n",
    "print(x)"
   ]
  },
  {
   "cell_type": "code",
   "execution_count": 19,
   "metadata": {},
   "outputs": [
    {
     "name": "stdout",
     "output_type": "stream",
     "text": [
      "             Age        Salary\n",
      "count  10.000000     10.000000\n",
      "mean   34.900000  57400.000000\n",
      "std    14.247417  23248.416911\n",
      "min     0.000000      0.000000\n",
      "25%    31.250000  52500.000000\n",
      "50%    37.500000  59500.000000\n",
      "75%    43.000000  70750.000000\n",
      "max    50.000000  83000.000000\n"
     ]
    }
   ],
   "source": [
    "x = df.describe()\n",
    "print(x)"
   ]
  },
  {
   "cell_type": "code",
   "execution_count": 20,
   "metadata": {},
   "outputs": [
    {
     "name": "stdout",
     "output_type": "stream",
     "text": [
      "         Age    Salary\n",
      "count  10.00     10.00\n",
      "mean   34.90  57400.00\n",
      "std    14.25  23248.42\n",
      "min     0.00      0.00\n",
      "25%    31.25  52500.00\n",
      "50%    37.50  59500.00\n",
      "75%    43.00  70750.00\n",
      "max    50.00  83000.00\n"
     ]
    }
   ],
   "source": [
    "from pandas import set_option\n",
    "set_option('precision',2)\n",
    "print(df.describe())\n"
   ]
  },
  {
   "cell_type": "code",
   "execution_count": 21,
   "metadata": {},
   "outputs": [
    {
     "name": "stdout",
     "output_type": "stream",
     "text": [
      "         Age    Salary\n",
      "count  10.00     10.00\n",
      "mean   34.90  57400.00\n",
      "std    14.25  23248.42\n",
      "...      ...       ...\n",
      "50%    37.50  59500.00\n",
      "75%    43.00  70750.00\n",
      "max    50.00  83000.00\n",
      "\n",
      "[8 rows x 2 columns]\n"
     ]
    }
   ],
   "source": [
    "set_option('display.max_rows()',6)\n",
    "print(df.describe())"
   ]
  },
  {
   "cell_type": "code",
   "execution_count": 22,
   "metadata": {},
   "outputs": [],
   "source": [
    "#from here make 2 py file"
   ]
  },
  {
   "cell_type": "code",
   "execution_count": 23,
   "metadata": {},
   "outputs": [
    {
     "name": "stdout",
     "output_type": "stream",
     "text": [
      "    Country   Age   Salary Purchased\n",
      "0    France  44.0  72000.0        No\n",
      "1     Spain  27.0  48000.0       Yes\n",
      "2   Germany  30.0  54000.0        No\n",
      "..      ...   ...      ...       ...\n",
      "7    France  48.0  79000.0       Yes\n",
      "8   Germany  50.0  83000.0        No\n",
      "9    France  37.0  67000.0       Yes\n",
      "\n",
      "[10 rows x 4 columns]\n"
     ]
    }
   ],
   "source": [
    "import numpy as np\n",
    "import pandas as pd\n",
    "df = pd.read_csv(\"Data2.csv\")\n",
    "print(df)"
   ]
  },
  {
   "cell_type": "code",
   "execution_count": 24,
   "metadata": {},
   "outputs": [
    {
     "name": "stdout",
     "output_type": "stream",
     "text": [
      "[['France' 44.0 72000.0]\n",
      " ['Spain' 27.0 48000.0]\n",
      " ['Germany' 30.0 54000.0]\n",
      " ['Spain' 38.0 61000.0]\n",
      " ['Germany' 40.0 nan]\n",
      " ['France' 35.0 58000.0]\n",
      " ['Spain' nan 52000.0]\n",
      " ['France' 48.0 79000.0]\n",
      " ['Germany' 50.0 83000.0]\n",
      " ['France' 37.0 67000.0]]\n"
     ]
    }
   ],
   "source": [
    "'''\n",
    "Imputer fills missing values with some statistics (e.g. mean, median, ...)\n",
    "of the data. To avoid data leakage during cross-validation, it computes the\n",
    "statistic on the train data during the fit , stores it and uses it on the test data, during the transform\n",
    "'''\n",
    "from sklearn.impute import SimpleImputer\n",
    "i = SimpleImputer(missing_values=np.NAN, strategy='Mean')\n",
    "feature = df.iloc[:,:-1].values\n",
    "print(feature)"
   ]
  },
  {
   "cell_type": "code",
   "execution_count": 25,
   "metadata": {},
   "outputs": [
    {
     "name": "stdout",
     "output_type": "stream",
     "text": [
      "[array([[44.0, 72000.0],\n",
      "       [27.0, 48000.0],\n",
      "       [30.0, 54000.0],\n",
      "       [38.0, 61000.0],\n",
      "       [40.0, nan],\n",
      "       [35.0, 58000.0],\n",
      "       [nan, 52000.0],\n",
      "       [48.0, 79000.0],\n",
      "       [50.0, 83000.0],\n",
      "       [37.0, 67000.0]], dtype=object)]\n"
     ]
    }
   ],
   "source": [
    "print([feature[:,1:3]])"
   ]
  }
 ],
 "metadata": {
  "kernelspec": {
   "display_name": "Python 3",
   "language": "python",
   "name": "python3"
  },
  "language_info": {
   "codemirror_mode": {
    "name": "ipython",
    "version": 3
   },
   "file_extension": ".py",
   "mimetype": "text/x-python",
   "name": "python",
   "nbconvert_exporter": "python",
   "pygments_lexer": "ipython3",
   "version": "3.7.3"
  }
 },
 "nbformat": 4,
 "nbformat_minor": 2
}
